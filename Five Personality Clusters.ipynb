{
 "cells": [
  {
   "cell_type": "markdown",
   "source": [
    "**Case Study: Five Personality Traits**\n",
    "Big Five Personality Traits, also known as the five-factor model (FFM) and the OCEAN model, is gor grouping different personality traits.\n",
    "\n",
    "This theory uses descriptors of common language and suggest five broad dimensions commonly used to describe the juman personality and psyche. The theory identifies five factors:\n",
    "- Openness to experience (inventive/curious versus consistent/cautious)\n",
    "- Conscientiousness (efficient/organized versus easy-going/careless)\n",
    "- Extroversion (friendly/compassionate versus challenging/detached)\n",
    "- Neurotiscim (sensitive/nervous versus secure/confident)\n",
    "-"
   ],
   "metadata": {
    "collapsed": false
   }
  },
  {
   "cell_type": "code",
   "execution_count": 1,
   "metadata": {
    "collapsed": true
   },
   "outputs": [],
   "source": [
    "import pandas as pd\n",
    "import numpy as np\n",
    "import seaborn as sns\n",
    "import matplotlib.pyplot as plt\n",
    "\n",
    "from sklearn.cluster import KMeans\n",
    "from sklearn.metrics import silhouette_score\n",
    "\n",
    "from sklearn.preprocessing import StandardScaler\n",
    "\n",
    "import warnings\n",
    "warnings.filterwarnings('ignore')"
   ]
  },
  {
   "cell_type": "code",
   "execution_count": 2,
   "outputs": [
    {
     "data": {
      "text/plain": "   EXT1  EXT2  EXT3  EXT4  EXT5  EXT6  EXT7  EXT8  EXT9  EXT10  ...  \\\n0   4.0   1.0   5.0   2.0   5.0   1.0   5.0   2.0   4.0    1.0  ...   \n1   3.0   5.0   3.0   4.0   3.0   3.0   2.0   5.0   1.0    5.0  ...   \n2   2.0   3.0   4.0   4.0   3.0   2.0   1.0   3.0   2.0    5.0  ...   \n3   2.0   2.0   2.0   3.0   4.0   2.0   2.0   4.0   1.0    4.0  ...   \n4   3.0   3.0   3.0   3.0   5.0   3.0   3.0   5.0   3.0    4.0  ...   \n\n              dateload  screenw  screenh  introelapse  testelapse  endelapse  \\\n0  2016-03-03 02:01:01    768.0   1024.0          9.0       234.0          6   \n1  2016-03-03 02:01:20   1360.0    768.0         12.0       179.0         11   \n2  2016-03-03 02:01:56   1366.0    768.0          3.0       186.0          7   \n3  2016-03-03 02:02:02   1920.0   1200.0        186.0       219.0          7   \n4  2016-03-03 02:02:57   1366.0    768.0          8.0       315.0         17   \n\n   IPC  country  lat_appx_lots_of_err  long_appx_lots_of_err  \n0    1       GB               51.5448                 0.1991  \n1    1       MY                3.1698                101.706  \n2    1       GB               54.9119                -1.3833  \n3    1       GB                 51.75                  -1.25  \n4    2       KE                   1.0                   38.0  \n\n[5 rows x 110 columns]",
      "text/html": "<div>\n<style scoped>\n    .dataframe tbody tr th:only-of-type {\n        vertical-align: middle;\n    }\n\n    .dataframe tbody tr th {\n        vertical-align: top;\n    }\n\n    .dataframe thead th {\n        text-align: right;\n    }\n</style>\n<table border=\"1\" class=\"dataframe\">\n  <thead>\n    <tr style=\"text-align: right;\">\n      <th></th>\n      <th>EXT1</th>\n      <th>EXT2</th>\n      <th>EXT3</th>\n      <th>EXT4</th>\n      <th>EXT5</th>\n      <th>EXT6</th>\n      <th>EXT7</th>\n      <th>EXT8</th>\n      <th>EXT9</th>\n      <th>EXT10</th>\n      <th>...</th>\n      <th>dateload</th>\n      <th>screenw</th>\n      <th>screenh</th>\n      <th>introelapse</th>\n      <th>testelapse</th>\n      <th>endelapse</th>\n      <th>IPC</th>\n      <th>country</th>\n      <th>lat_appx_lots_of_err</th>\n      <th>long_appx_lots_of_err</th>\n    </tr>\n  </thead>\n  <tbody>\n    <tr>\n      <th>0</th>\n      <td>4.0</td>\n      <td>1.0</td>\n      <td>5.0</td>\n      <td>2.0</td>\n      <td>5.0</td>\n      <td>1.0</td>\n      <td>5.0</td>\n      <td>2.0</td>\n      <td>4.0</td>\n      <td>1.0</td>\n      <td>...</td>\n      <td>2016-03-03 02:01:01</td>\n      <td>768.0</td>\n      <td>1024.0</td>\n      <td>9.0</td>\n      <td>234.0</td>\n      <td>6</td>\n      <td>1</td>\n      <td>GB</td>\n      <td>51.5448</td>\n      <td>0.1991</td>\n    </tr>\n    <tr>\n      <th>1</th>\n      <td>3.0</td>\n      <td>5.0</td>\n      <td>3.0</td>\n      <td>4.0</td>\n      <td>3.0</td>\n      <td>3.0</td>\n      <td>2.0</td>\n      <td>5.0</td>\n      <td>1.0</td>\n      <td>5.0</td>\n      <td>...</td>\n      <td>2016-03-03 02:01:20</td>\n      <td>1360.0</td>\n      <td>768.0</td>\n      <td>12.0</td>\n      <td>179.0</td>\n      <td>11</td>\n      <td>1</td>\n      <td>MY</td>\n      <td>3.1698</td>\n      <td>101.706</td>\n    </tr>\n    <tr>\n      <th>2</th>\n      <td>2.0</td>\n      <td>3.0</td>\n      <td>4.0</td>\n      <td>4.0</td>\n      <td>3.0</td>\n      <td>2.0</td>\n      <td>1.0</td>\n      <td>3.0</td>\n      <td>2.0</td>\n      <td>5.0</td>\n      <td>...</td>\n      <td>2016-03-03 02:01:56</td>\n      <td>1366.0</td>\n      <td>768.0</td>\n      <td>3.0</td>\n      <td>186.0</td>\n      <td>7</td>\n      <td>1</td>\n      <td>GB</td>\n      <td>54.9119</td>\n      <td>-1.3833</td>\n    </tr>\n    <tr>\n      <th>3</th>\n      <td>2.0</td>\n      <td>2.0</td>\n      <td>2.0</td>\n      <td>3.0</td>\n      <td>4.0</td>\n      <td>2.0</td>\n      <td>2.0</td>\n      <td>4.0</td>\n      <td>1.0</td>\n      <td>4.0</td>\n      <td>...</td>\n      <td>2016-03-03 02:02:02</td>\n      <td>1920.0</td>\n      <td>1200.0</td>\n      <td>186.0</td>\n      <td>219.0</td>\n      <td>7</td>\n      <td>1</td>\n      <td>GB</td>\n      <td>51.75</td>\n      <td>-1.25</td>\n    </tr>\n    <tr>\n      <th>4</th>\n      <td>3.0</td>\n      <td>3.0</td>\n      <td>3.0</td>\n      <td>3.0</td>\n      <td>5.0</td>\n      <td>3.0</td>\n      <td>3.0</td>\n      <td>5.0</td>\n      <td>3.0</td>\n      <td>4.0</td>\n      <td>...</td>\n      <td>2016-03-03 02:02:57</td>\n      <td>1366.0</td>\n      <td>768.0</td>\n      <td>8.0</td>\n      <td>315.0</td>\n      <td>17</td>\n      <td>2</td>\n      <td>KE</td>\n      <td>1.0</td>\n      <td>38.0</td>\n    </tr>\n  </tbody>\n</table>\n<p>5 rows × 110 columns</p>\n</div>"
     },
     "execution_count": 2,
     "metadata": {},
     "output_type": "execute_result"
    }
   ],
   "source": [
    "data = pd.read_csv('./data/data-final.csv', sep='\\t')\n",
    "data.head()\n",
    "\n",
    "#codebook represents the description of the features"
   ],
   "metadata": {
    "collapsed": false
   }
  },
  {
   "cell_type": "code",
   "execution_count": 3,
   "outputs": [
    {
     "name": "stdout",
     "output_type": "stream",
     "text": [
      "<class 'pandas.core.frame.DataFrame'>\n",
      "RangeIndex: 1015341 entries, 0 to 1015340\n",
      "Columns: 110 entries, EXT1 to long_appx_lots_of_err\n",
      "dtypes: float64(104), int64(2), object(4)\n",
      "memory usage: 852.1+ MB\n"
     ]
    }
   ],
   "source": [
    "data.info()"
   ],
   "metadata": {
    "collapsed": false
   }
  },
  {
   "cell_type": "code",
   "execution_count": 4,
   "outputs": [
    {
     "data": {
      "text/plain": "                 count         mean           std  min    25%    50%    75%  \\\nEXT1         1013558.0     2.648067  1.264407e+00  0.0    1.0    3.0    4.0   \nEXT2         1013558.0     2.773115  1.323943e+00  0.0    2.0    3.0    4.0   \nEXT3         1013558.0     3.288349  1.215006e+00  0.0    2.0    3.0    4.0   \nEXT4         1013558.0     3.140595  1.237442e+00  0.0    2.0    3.0    4.0   \nEXT5         1013558.0     3.276960  1.277593e+00  0.0    2.0    3.0    4.0   \n...                ...          ...           ...  ...    ...    ...    ...   \nscreenh      1013275.0   826.261104  1.802490e+02  0.0  720.0  768.0  900.0   \nintroelapse  1013275.0   959.074776  5.104005e+04  0.0    5.0   10.0   30.0   \ntestelapse   1013558.0   675.423329  2.017864e+04  1.0  171.0  224.0  313.0   \nendelapse    1015341.0  2701.409845  1.483898e+06  1.0    9.0   13.0   18.0   \nIPC          1015341.0    10.452109  3.982879e+01  1.0    1.0    1.0    2.0   \n\n                      max  \nEXT1         5.000000e+00  \nEXT2         5.000000e+00  \nEXT3         5.000000e+00  \nEXT4         5.000000e+00  \nEXT5         5.000000e+00  \n...                   ...  \nscreenh      8.802000e+03  \nintroelapse  2.944307e+07  \ntestelapse   1.189272e+07  \nendelapse    1.493327e+09  \nIPC          7.250000e+02  \n\n[106 rows x 8 columns]",
      "text/html": "<div>\n<style scoped>\n    .dataframe tbody tr th:only-of-type {\n        vertical-align: middle;\n    }\n\n    .dataframe tbody tr th {\n        vertical-align: top;\n    }\n\n    .dataframe thead th {\n        text-align: right;\n    }\n</style>\n<table border=\"1\" class=\"dataframe\">\n  <thead>\n    <tr style=\"text-align: right;\">\n      <th></th>\n      <th>count</th>\n      <th>mean</th>\n      <th>std</th>\n      <th>min</th>\n      <th>25%</th>\n      <th>50%</th>\n      <th>75%</th>\n      <th>max</th>\n    </tr>\n  </thead>\n  <tbody>\n    <tr>\n      <th>EXT1</th>\n      <td>1013558.0</td>\n      <td>2.648067</td>\n      <td>1.264407e+00</td>\n      <td>0.0</td>\n      <td>1.0</td>\n      <td>3.0</td>\n      <td>4.0</td>\n      <td>5.000000e+00</td>\n    </tr>\n    <tr>\n      <th>EXT2</th>\n      <td>1013558.0</td>\n      <td>2.773115</td>\n      <td>1.323943e+00</td>\n      <td>0.0</td>\n      <td>2.0</td>\n      <td>3.0</td>\n      <td>4.0</td>\n      <td>5.000000e+00</td>\n    </tr>\n    <tr>\n      <th>EXT3</th>\n      <td>1013558.0</td>\n      <td>3.288349</td>\n      <td>1.215006e+00</td>\n      <td>0.0</td>\n      <td>2.0</td>\n      <td>3.0</td>\n      <td>4.0</td>\n      <td>5.000000e+00</td>\n    </tr>\n    <tr>\n      <th>EXT4</th>\n      <td>1013558.0</td>\n      <td>3.140595</td>\n      <td>1.237442e+00</td>\n      <td>0.0</td>\n      <td>2.0</td>\n      <td>3.0</td>\n      <td>4.0</td>\n      <td>5.000000e+00</td>\n    </tr>\n    <tr>\n      <th>EXT5</th>\n      <td>1013558.0</td>\n      <td>3.276960</td>\n      <td>1.277593e+00</td>\n      <td>0.0</td>\n      <td>2.0</td>\n      <td>3.0</td>\n      <td>4.0</td>\n      <td>5.000000e+00</td>\n    </tr>\n    <tr>\n      <th>...</th>\n      <td>...</td>\n      <td>...</td>\n      <td>...</td>\n      <td>...</td>\n      <td>...</td>\n      <td>...</td>\n      <td>...</td>\n      <td>...</td>\n    </tr>\n    <tr>\n      <th>screenh</th>\n      <td>1013275.0</td>\n      <td>826.261104</td>\n      <td>1.802490e+02</td>\n      <td>0.0</td>\n      <td>720.0</td>\n      <td>768.0</td>\n      <td>900.0</td>\n      <td>8.802000e+03</td>\n    </tr>\n    <tr>\n      <th>introelapse</th>\n      <td>1013275.0</td>\n      <td>959.074776</td>\n      <td>5.104005e+04</td>\n      <td>0.0</td>\n      <td>5.0</td>\n      <td>10.0</td>\n      <td>30.0</td>\n      <td>2.944307e+07</td>\n    </tr>\n    <tr>\n      <th>testelapse</th>\n      <td>1013558.0</td>\n      <td>675.423329</td>\n      <td>2.017864e+04</td>\n      <td>1.0</td>\n      <td>171.0</td>\n      <td>224.0</td>\n      <td>313.0</td>\n      <td>1.189272e+07</td>\n    </tr>\n    <tr>\n      <th>endelapse</th>\n      <td>1015341.0</td>\n      <td>2701.409845</td>\n      <td>1.483898e+06</td>\n      <td>1.0</td>\n      <td>9.0</td>\n      <td>13.0</td>\n      <td>18.0</td>\n      <td>1.493327e+09</td>\n    </tr>\n    <tr>\n      <th>IPC</th>\n      <td>1015341.0</td>\n      <td>10.452109</td>\n      <td>3.982879e+01</td>\n      <td>1.0</td>\n      <td>1.0</td>\n      <td>1.0</td>\n      <td>2.0</td>\n      <td>7.250000e+02</td>\n    </tr>\n  </tbody>\n</table>\n<p>106 rows × 8 columns</p>\n</div>"
     },
     "execution_count": 4,
     "metadata": {},
     "output_type": "execute_result"
    }
   ],
   "source": [
    "data.describe().T"
   ],
   "metadata": {
    "collapsed": false
   }
  },
  {
   "cell_type": "code",
   "execution_count": 5,
   "outputs": [
    {
     "data": {
      "text/plain": "EXT1                     0.175606\nEXT2                     0.175606\nEXT3                     0.175606\nEXT4                     0.175606\nEXT5                     0.175606\n                           ...   \nendelapse                0.000000\nIPC                      0.000000\ncountry                  0.007584\nlat_appx_lots_of_err     0.000000\nlong_appx_lots_of_err    0.000000\nLength: 110, dtype: float64"
     },
     "execution_count": 5,
     "metadata": {},
     "output_type": "execute_result"
    }
   ],
   "source": [
    "data.isnull().sum() / data.shape[0] * 100"
   ],
   "metadata": {
    "collapsed": false
   }
  },
  {
   "cell_type": "code",
   "execution_count": 6,
   "outputs": [
    {
     "data": {
      "text/plain": "Empty DataFrame\nColumns: [EXT1, EXT2, EXT3, EXT4, EXT5, EXT6, EXT7, EXT8, EXT9, EXT10, EST1, EST2, EST3, EST4, EST5, EST6, EST7, EST8, EST9, EST10, AGR1, AGR2, AGR3, AGR4, AGR5, AGR6, AGR7, AGR8, AGR9, AGR10, CSN1, CSN2, CSN3, CSN4, CSN5, CSN6, CSN7, CSN8, CSN9, CSN10, OPN1, OPN2, OPN3, OPN4, OPN5, OPN6, OPN7, OPN8, OPN9, OPN10, EXT1_E, EXT2_E, EXT3_E, EXT4_E, EXT5_E, EXT6_E, EXT7_E, EXT8_E, EXT9_E, EXT10_E, EST1_E, EST2_E, EST3_E, EST4_E, EST5_E, EST6_E, EST7_E, EST8_E, EST9_E, EST10_E, AGR1_E, AGR2_E, AGR3_E, AGR4_E, AGR5_E, AGR6_E, AGR7_E, AGR8_E, AGR9_E, AGR10_E, CSN1_E, CSN2_E, CSN3_E, CSN4_E, CSN5_E, CSN6_E, CSN7_E, CSN8_E, CSN9_E, CSN10_E, OPN1_E, OPN2_E, OPN3_E, OPN4_E, OPN5_E, OPN6_E, OPN7_E, OPN8_E, OPN9_E, OPN10_E, ...]\nIndex: []\n\n[0 rows x 110 columns]",
      "text/html": "<div>\n<style scoped>\n    .dataframe tbody tr th:only-of-type {\n        vertical-align: middle;\n    }\n\n    .dataframe tbody tr th {\n        vertical-align: top;\n    }\n\n    .dataframe thead th {\n        text-align: right;\n    }\n</style>\n<table border=\"1\" class=\"dataframe\">\n  <thead>\n    <tr style=\"text-align: right;\">\n      <th></th>\n      <th>EXT1</th>\n      <th>EXT2</th>\n      <th>EXT3</th>\n      <th>EXT4</th>\n      <th>EXT5</th>\n      <th>EXT6</th>\n      <th>EXT7</th>\n      <th>EXT8</th>\n      <th>EXT9</th>\n      <th>EXT10</th>\n      <th>...</th>\n      <th>dateload</th>\n      <th>screenw</th>\n      <th>screenh</th>\n      <th>introelapse</th>\n      <th>testelapse</th>\n      <th>endelapse</th>\n      <th>IPC</th>\n      <th>country</th>\n      <th>lat_appx_lots_of_err</th>\n      <th>long_appx_lots_of_err</th>\n    </tr>\n  </thead>\n  <tbody>\n  </tbody>\n</table>\n<p>0 rows × 110 columns</p>\n</div>"
     },
     "execution_count": 6,
     "metadata": {},
     "output_type": "execute_result"
    }
   ],
   "source": [
    "data[data.duplicated()]"
   ],
   "metadata": {
    "collapsed": false
   }
  },
  {
   "cell_type": "markdown",
   "source": [
    "Visualization of the features and outlier verification"
   ],
   "metadata": {
    "collapsed": false
   }
  },
  {
   "cell_type": "code",
   "execution_count": 7,
   "outputs": [],
   "source": [
    "#for col in data.columns:\n",
    "#    print(col)\n",
    "#    print('Skew:', data[col].skew())\n",
    "#    plt.figure(figsize=(15, 4))\n",
    "#    plt.subplot(1, 2, 1)\n",
    "#    data[col].hist(bins=15, grid=False)\n",
    "#    plt.subplot(1, 2, 2)\n",
    "#    sns.boxplot(x=data[col])\n",
    "#    plt.ylabel('Count')\n",
    "#    plt.show()"
   ],
   "metadata": {
    "collapsed": false
   }
  },
  {
   "cell_type": "code",
   "execution_count": 10,
   "outputs": [],
   "source": [
    "data= data.dropna()"
   ],
   "metadata": {
    "collapsed": false
   }
  },
  {
   "cell_type": "code",
   "execution_count": 11,
   "outputs": [
    {
     "data": {
      "text/plain": "EXT1                     0\nEXT2                     0\nEXT3                     0\nEXT4                     0\nEXT5                     0\n                        ..\nendelapse                0\nIPC                      0\ncountry                  0\nlat_appx_lots_of_err     0\nlong_appx_lots_of_err    0\nLength: 110, dtype: int64"
     },
     "execution_count": 11,
     "metadata": {},
     "output_type": "execute_result"
    }
   ],
   "source": [
    "data.isnull().sum()"
   ],
   "metadata": {
    "collapsed": false
   }
  },
  {
   "cell_type": "code",
   "execution_count": 12,
   "outputs": [],
   "source": [
    "data['dateload'] = pd.to_datetime(data['dateload'])\n",
    "data['dateload'] = data['dateload'].dt.date\n",
    "\n",
    "data = data.drop(['dateload', 'country', 'lat_appx_lots_of_err', 'long_appx_lots_of_err'], axis=1)"
   ],
   "metadata": {
    "collapsed": false
   }
  },
  {
   "cell_type": "code",
   "execution_count": 13,
   "outputs": [
    {
     "data": {
      "text/plain": "EXT1           float64\nEXT2           float64\nEXT3           float64\nEXT4           float64\nEXT5           float64\n                ...   \nscreenh        float64\nintroelapse    float64\ntestelapse     float64\nendelapse        int64\nIPC              int64\nLength: 106, dtype: object"
     },
     "execution_count": 13,
     "metadata": {},
     "output_type": "execute_result"
    }
   ],
   "source": [
    "data.dtypes"
   ],
   "metadata": {
    "collapsed": false
   }
  },
  {
   "cell_type": "code",
   "execution_count": 14,
   "outputs": [
    {
     "data": {
      "text/plain": "             EXT1      EXT2      EXT3      EXT4      EXT5      EXT6      EXT7  \\\n0        1.069304 -1.339326  1.408792 -0.921798  1.348737 -1.143013  1.591371   \n1        0.278462  1.681865 -0.237187  0.694401 -0.216655  0.488559 -0.550954   \n2       -0.512380  0.171269  0.585802  0.694401 -0.216655 -0.327227 -1.265062   \n3       -0.512380 -0.584028 -1.060177 -0.113698  0.566041 -0.327227 -0.550954   \n4        0.278462  0.171269 -0.237187 -0.113698  1.348737  0.488559  0.163154   \n...           ...       ...       ...       ...       ...       ...       ...   \n1012045  1.069304 -0.584028  0.585802 -0.113698  0.566041  0.488559  0.163154   \n1012046  1.069304  0.171269  0.585802 -0.113698 -0.216655  0.488559  0.877263   \n1012047  1.069304 -0.584028  0.585802 -0.113698  1.348737 -1.143013  0.877263   \n1012048 -0.512380  0.926567 -0.237187  0.694401 -0.999350 -0.327227 -1.265062   \n1012049  1.069304 -0.584028  0.585802 -0.921798  0.566041 -1.143013  0.877263   \n\n             EXT8      EXT9     EXT10  ...    OPN7_E    OPN8_E    OPN9_E  \\\n0       -1.112304  0.769836 -1.958685  ... -0.005569 -0.008775 -0.007733   \n1        1.246273 -1.458903  1.105867  ... -0.008508 -0.007795 -0.007491   \n2       -0.326112 -0.715990  1.105867  ... -0.009662  0.003305 -0.011004   \n3        0.460081 -1.458903  0.339729  ... -0.008053 -0.004686 -0.006598   \n4        1.246273  0.026923  0.339729  ... -0.001447 -0.000400  0.011818   \n...           ...       ...       ...  ...       ...       ...       ...   \n1012045 -0.326112  0.026923 -0.426409  ... -0.008463 -0.012921 -0.010335   \n1012046  0.460081  0.026923 -0.426409  ... -0.006205 -0.016268 -0.007863   \n1012047 -1.112304  0.769836  0.339729  ... -0.008492 -0.010553 -0.008537   \n1012048  0.460081 -0.715990  0.339729  ... -0.007805 -0.009980  0.002014   \n1012049 -1.112304  0.769836  0.339729  ... -0.000886 -0.005275 -0.006733   \n\n          OPN10_E   screenw   screenh  introelapse  testelapse  endelapse  \\\n0       -0.002231 -0.680887  1.097351    -0.018621   -0.021698  -0.001818   \n1       -0.005257  0.376066 -0.323065    -0.018562   -0.024424  -0.001814   \n2       -0.006368  0.386778 -0.323065    -0.018738   -0.024077  -0.001817   \n3       -0.004718  1.375886  2.073887    -0.015155   -0.022441  -0.001817   \n4        0.007489  0.386778 -0.323065    -0.018641   -0.017682  -0.001810   \n...           ...       ...       ...          ...         ...        ...   \n1012045 -0.009308  1.375886  1.408067    -0.018738   -0.025366  -0.001815   \n1012046 -0.008440  1.375886  1.408067    -0.018738   -0.027250  -0.001817   \n1012047 -0.009183  1.375886  1.408067    -0.018758   -0.026605  -0.001814   \n1012048 -0.006375  1.375886  1.408067    -0.018680   -0.022788  -0.001816   \n1012049 -0.008091  1.375886  1.408067    -0.018738   -0.024573  -0.001816   \n\n              IPC  \n0       -0.236880  \n1       -0.236880  \n2       -0.236880  \n3       -0.236880  \n4       -0.211754  \n...           ...  \n1012045 -0.211754  \n1012046 -0.236880  \n1012047 -0.111247  \n1012048 -0.236880  \n1012049 -0.236880  \n\n[1012050 rows x 106 columns]",
      "text/html": "<div>\n<style scoped>\n    .dataframe tbody tr th:only-of-type {\n        vertical-align: middle;\n    }\n\n    .dataframe tbody tr th {\n        vertical-align: top;\n    }\n\n    .dataframe thead th {\n        text-align: right;\n    }\n</style>\n<table border=\"1\" class=\"dataframe\">\n  <thead>\n    <tr style=\"text-align: right;\">\n      <th></th>\n      <th>EXT1</th>\n      <th>EXT2</th>\n      <th>EXT3</th>\n      <th>EXT4</th>\n      <th>EXT5</th>\n      <th>EXT6</th>\n      <th>EXT7</th>\n      <th>EXT8</th>\n      <th>EXT9</th>\n      <th>EXT10</th>\n      <th>...</th>\n      <th>OPN7_E</th>\n      <th>OPN8_E</th>\n      <th>OPN9_E</th>\n      <th>OPN10_E</th>\n      <th>screenw</th>\n      <th>screenh</th>\n      <th>introelapse</th>\n      <th>testelapse</th>\n      <th>endelapse</th>\n      <th>IPC</th>\n    </tr>\n  </thead>\n  <tbody>\n    <tr>\n      <th>0</th>\n      <td>1.069304</td>\n      <td>-1.339326</td>\n      <td>1.408792</td>\n      <td>-0.921798</td>\n      <td>1.348737</td>\n      <td>-1.143013</td>\n      <td>1.591371</td>\n      <td>-1.112304</td>\n      <td>0.769836</td>\n      <td>-1.958685</td>\n      <td>...</td>\n      <td>-0.005569</td>\n      <td>-0.008775</td>\n      <td>-0.007733</td>\n      <td>-0.002231</td>\n      <td>-0.680887</td>\n      <td>1.097351</td>\n      <td>-0.018621</td>\n      <td>-0.021698</td>\n      <td>-0.001818</td>\n      <td>-0.236880</td>\n    </tr>\n    <tr>\n      <th>1</th>\n      <td>0.278462</td>\n      <td>1.681865</td>\n      <td>-0.237187</td>\n      <td>0.694401</td>\n      <td>-0.216655</td>\n      <td>0.488559</td>\n      <td>-0.550954</td>\n      <td>1.246273</td>\n      <td>-1.458903</td>\n      <td>1.105867</td>\n      <td>...</td>\n      <td>-0.008508</td>\n      <td>-0.007795</td>\n      <td>-0.007491</td>\n      <td>-0.005257</td>\n      <td>0.376066</td>\n      <td>-0.323065</td>\n      <td>-0.018562</td>\n      <td>-0.024424</td>\n      <td>-0.001814</td>\n      <td>-0.236880</td>\n    </tr>\n    <tr>\n      <th>2</th>\n      <td>-0.512380</td>\n      <td>0.171269</td>\n      <td>0.585802</td>\n      <td>0.694401</td>\n      <td>-0.216655</td>\n      <td>-0.327227</td>\n      <td>-1.265062</td>\n      <td>-0.326112</td>\n      <td>-0.715990</td>\n      <td>1.105867</td>\n      <td>...</td>\n      <td>-0.009662</td>\n      <td>0.003305</td>\n      <td>-0.011004</td>\n      <td>-0.006368</td>\n      <td>0.386778</td>\n      <td>-0.323065</td>\n      <td>-0.018738</td>\n      <td>-0.024077</td>\n      <td>-0.001817</td>\n      <td>-0.236880</td>\n    </tr>\n    <tr>\n      <th>3</th>\n      <td>-0.512380</td>\n      <td>-0.584028</td>\n      <td>-1.060177</td>\n      <td>-0.113698</td>\n      <td>0.566041</td>\n      <td>-0.327227</td>\n      <td>-0.550954</td>\n      <td>0.460081</td>\n      <td>-1.458903</td>\n      <td>0.339729</td>\n      <td>...</td>\n      <td>-0.008053</td>\n      <td>-0.004686</td>\n      <td>-0.006598</td>\n      <td>-0.004718</td>\n      <td>1.375886</td>\n      <td>2.073887</td>\n      <td>-0.015155</td>\n      <td>-0.022441</td>\n      <td>-0.001817</td>\n      <td>-0.236880</td>\n    </tr>\n    <tr>\n      <th>4</th>\n      <td>0.278462</td>\n      <td>0.171269</td>\n      <td>-0.237187</td>\n      <td>-0.113698</td>\n      <td>1.348737</td>\n      <td>0.488559</td>\n      <td>0.163154</td>\n      <td>1.246273</td>\n      <td>0.026923</td>\n      <td>0.339729</td>\n      <td>...</td>\n      <td>-0.001447</td>\n      <td>-0.000400</td>\n      <td>0.011818</td>\n      <td>0.007489</td>\n      <td>0.386778</td>\n      <td>-0.323065</td>\n      <td>-0.018641</td>\n      <td>-0.017682</td>\n      <td>-0.001810</td>\n      <td>-0.211754</td>\n    </tr>\n    <tr>\n      <th>...</th>\n      <td>...</td>\n      <td>...</td>\n      <td>...</td>\n      <td>...</td>\n      <td>...</td>\n      <td>...</td>\n      <td>...</td>\n      <td>...</td>\n      <td>...</td>\n      <td>...</td>\n      <td>...</td>\n      <td>...</td>\n      <td>...</td>\n      <td>...</td>\n      <td>...</td>\n      <td>...</td>\n      <td>...</td>\n      <td>...</td>\n      <td>...</td>\n      <td>...</td>\n      <td>...</td>\n    </tr>\n    <tr>\n      <th>1012045</th>\n      <td>1.069304</td>\n      <td>-0.584028</td>\n      <td>0.585802</td>\n      <td>-0.113698</td>\n      <td>0.566041</td>\n      <td>0.488559</td>\n      <td>0.163154</td>\n      <td>-0.326112</td>\n      <td>0.026923</td>\n      <td>-0.426409</td>\n      <td>...</td>\n      <td>-0.008463</td>\n      <td>-0.012921</td>\n      <td>-0.010335</td>\n      <td>-0.009308</td>\n      <td>1.375886</td>\n      <td>1.408067</td>\n      <td>-0.018738</td>\n      <td>-0.025366</td>\n      <td>-0.001815</td>\n      <td>-0.211754</td>\n    </tr>\n    <tr>\n      <th>1012046</th>\n      <td>1.069304</td>\n      <td>0.171269</td>\n      <td>0.585802</td>\n      <td>-0.113698</td>\n      <td>-0.216655</td>\n      <td>0.488559</td>\n      <td>0.877263</td>\n      <td>0.460081</td>\n      <td>0.026923</td>\n      <td>-0.426409</td>\n      <td>...</td>\n      <td>-0.006205</td>\n      <td>-0.016268</td>\n      <td>-0.007863</td>\n      <td>-0.008440</td>\n      <td>1.375886</td>\n      <td>1.408067</td>\n      <td>-0.018738</td>\n      <td>-0.027250</td>\n      <td>-0.001817</td>\n      <td>-0.236880</td>\n    </tr>\n    <tr>\n      <th>1012047</th>\n      <td>1.069304</td>\n      <td>-0.584028</td>\n      <td>0.585802</td>\n      <td>-0.113698</td>\n      <td>1.348737</td>\n      <td>-1.143013</td>\n      <td>0.877263</td>\n      <td>-1.112304</td>\n      <td>0.769836</td>\n      <td>0.339729</td>\n      <td>...</td>\n      <td>-0.008492</td>\n      <td>-0.010553</td>\n      <td>-0.008537</td>\n      <td>-0.009183</td>\n      <td>1.375886</td>\n      <td>1.408067</td>\n      <td>-0.018758</td>\n      <td>-0.026605</td>\n      <td>-0.001814</td>\n      <td>-0.111247</td>\n    </tr>\n    <tr>\n      <th>1012048</th>\n      <td>-0.512380</td>\n      <td>0.926567</td>\n      <td>-0.237187</td>\n      <td>0.694401</td>\n      <td>-0.999350</td>\n      <td>-0.327227</td>\n      <td>-1.265062</td>\n      <td>0.460081</td>\n      <td>-0.715990</td>\n      <td>0.339729</td>\n      <td>...</td>\n      <td>-0.007805</td>\n      <td>-0.009980</td>\n      <td>0.002014</td>\n      <td>-0.006375</td>\n      <td>1.375886</td>\n      <td>1.408067</td>\n      <td>-0.018680</td>\n      <td>-0.022788</td>\n      <td>-0.001816</td>\n      <td>-0.236880</td>\n    </tr>\n    <tr>\n      <th>1012049</th>\n      <td>1.069304</td>\n      <td>-0.584028</td>\n      <td>0.585802</td>\n      <td>-0.921798</td>\n      <td>0.566041</td>\n      <td>-1.143013</td>\n      <td>0.877263</td>\n      <td>-1.112304</td>\n      <td>0.769836</td>\n      <td>0.339729</td>\n      <td>...</td>\n      <td>-0.000886</td>\n      <td>-0.005275</td>\n      <td>-0.006733</td>\n      <td>-0.008091</td>\n      <td>1.375886</td>\n      <td>1.408067</td>\n      <td>-0.018738</td>\n      <td>-0.024573</td>\n      <td>-0.001816</td>\n      <td>-0.236880</td>\n    </tr>\n  </tbody>\n</table>\n<p>1012050 rows × 106 columns</p>\n</div>"
     },
     "execution_count": 14,
     "metadata": {},
     "output_type": "execute_result"
    }
   ],
   "source": [
    "scaler = StandardScaler()\n",
    "data_scaled = pd.DataFrame(scaler.fit_transform(data), columns=data.columns)\n",
    "data_scaled"
   ],
   "metadata": {
    "collapsed": false
   }
  },
  {
   "cell_type": "code",
   "execution_count": 15,
   "outputs": [
    {
     "data": {
      "text/plain": "<Figure size 1500x400 with 1 Axes>",
      "image/png": "[encoded data removed]"
     },
     "metadata": {},
     "output_type": "display_data"
    }
   ],
   "source": [
    "sse = {}\n",
    "\n",
    "for k in range(1, 10):\n",
    "    kmeans = KMeans(n_clusters=k, random_state=1)\n",
    "    kmeans.fit(data_scaled)\n",
    "    sse[k] = kmeans.inertia_\n",
    "\n",
    "plt.figure(figsize=(15, 4))\n",
    "plt.plot(list(sse.keys()), list(sse.values()), 'bx--')\n",
    "plt.xlabel('Nr. Clusters')\n",
    "plt.ylabel('SSE')\n",
    "plt.show()"
   ],
   "metadata": {
    "collapsed": false
   }
  },
  {
   "cell_type": "code",
   "execution_count": null,
   "outputs": [],
   "source": [
    "sc = {}\n",
    "\n",
    "for k in range(2, 10):\n",
    "    kmeans = KMeans(n_clusters=k, random_state=1).fit(data_scaled)\n",
    "    labels = kmeans.predict(data_scaled)\n",
    "    sc[k] = silhouette_score(data_scaled, labels)\n",
    "\n",
    "plt.figure(figsize=(15, 4))\n",
    "plt.plot(list(sc.keys()), list(sc.values()), 'bx--')\n",
    "plt.xlabel('Nr Clusters')\n",
    "plt.ylabel('SC')\n",
    "plt.show()"
   ],
   "metadata": {
    "collapsed": false,
    "pycharm": {
     "is_executing": true
    }
   }
  },
  {
   "cell_type": "code",
   "execution_count": null,
   "outputs": [],
   "source": [
    "kmeans = KMeans(n_clusters=, random_state=1).fit(data_scaled)\n",
    "kmeans['Labels'] = kmeans.predict(data_scaled)\n",
    "kmeans['Labels'].value_counts()"
   ],
   "metadata": {
    "collapsed": false
   }
  },
  {
   "cell_type": "code",
   "execution_count": null,
   "outputs": [],
   "source": [
    "mean = data.groupby('Labels').mean()\n",
    "median = data.groupby('Labels').median()\n",
    "\n",
    "data_kmeans = pd.concat([mean, median], axis=0)\n",
    "data_kmeans.index = ['Group 0 Mean', 'Group 1 Mean', 'Group 2 Mean', ]"
   ],
   "metadata": {
    "collapsed": false
   }
  }
 ],
 "metadata": {
  "kernelspec": {
   "display_name": "Python 3",
   "language": "python",
   "name": "python3"
  },
  "language_info": {
   "codemirror_mode": {
    "name": "ipython",
    "version": 2
   },
   "file_extension": ".py",
   "mimetype": "text/x-python",
   "name": "python",
   "nbconvert_exporter": "python",
   "pygments_lexer": "ipython2",
   "version": "2.7.6"
  }
 },
 "nbformat": 4,
 "nbformat_minor": 0
}
